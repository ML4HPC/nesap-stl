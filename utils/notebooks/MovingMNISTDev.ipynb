{
 "cells": [
  {
   "cell_type": "markdown",
   "metadata": {},
   "source": [
    "# Moving MNIST Dataset R&D"
   ]
  },
  {
   "cell_type": "code",
   "execution_count": 45,
   "metadata": {},
   "outputs": [],
   "source": [
    "import os\n",
    "import errno\n",
    "\n",
    "import numpy as np\n",
    "import torch\n",
    "import matplotlib.pyplot as plt"
   ]
  },
  {
   "cell_type": "code",
   "execution_count": 46,
   "metadata": {},
   "outputs": [],
   "source": [
    "%matplotlib inline"
   ]
  },
  {
   "cell_type": "markdown",
   "metadata": {},
   "source": [
    "## Moving MNIST version 1\n",
    "\n",
    "http://www.cs.toronto.edu/~nitish/unsupervised_video/\n",
    "\n",
    "A pytorch dataset implementation: https://github.com/tychovdo/MovingMNIST"
   ]
  },
  {
   "cell_type": "code",
   "execution_count": 13,
   "metadata": {},
   "outputs": [],
   "source": [
    "class MovingMNIST(torch.utils.data.Dataset):\n",
    "    \"\"\"`MovingMNIST <http://www.cs.toronto.edu/~nitish/unsupervised_video/>`_ Dataset.\n",
    "    Args:\n",
    "        root (string): Root directory of dataset where ``processed/training.pt``\n",
    "            and  ``processed/test.pt`` exist.\n",
    "        train (bool, optional): If True, creates dataset from ``training.pt``,\n",
    "            otherwise from ``test.pt``.\n",
    "        split (int, optional): Train/test split size. Number defines how many samples\n",
    "            belong to test set. \n",
    "        download (bool, optional): If true, downloads the dataset from the internet and\n",
    "            puts it in root directory. If dataset is already downloaded, it is not\n",
    "            downloaded again.\n",
    "        transform (callable, optional): A function/transform that takes in an PIL image\n",
    "            and returns a transformed version. E.g, ``transforms.RandomCrop``\n",
    "        target_transform (callable, optional): A function/transform that takes in an PIL\n",
    "            image and returns a transformed version. E.g, ``transforms.RandomCrop``\n",
    "    \"\"\"\n",
    "    urls = [\n",
    "        'https://github.com/tychovdo/MovingMNIST/raw/master/mnist_test_seq.npy.gz'\n",
    "    ]\n",
    "    raw_folder = 'raw'\n",
    "    processed_folder = 'processed'\n",
    "    training_file = 'moving_mnist_train.pt'\n",
    "    test_file = 'moving_mnist_test.pt'\n",
    "\n",
    "    def __init__(self, root, train=True, split=1000, transform=None, target_transform=None, download=False):\n",
    "        self.root = os.path.expanduser(root)\n",
    "        self.transform = transform\n",
    "        self.target_transform = target_transform\n",
    "        self.split = split\n",
    "        self.train = train  # training set or test set\n",
    "\n",
    "        if download:\n",
    "            self.download()\n",
    "\n",
    "        if not self._check_exists():\n",
    "            raise RuntimeError('Dataset not found.' +\n",
    "                               ' You can use download=True to download it')\n",
    "        data_file = self.training_file if self.train else self.test_file\n",
    "        self.data = torch.load(os.path.join(self.root, self.processed_folder, data_file))\n",
    "\n",
    "    def __getitem__(self, index):\n",
    "        \"\"\"\n",
    "        Args:\n",
    "            index (int): Index\n",
    "        Returns:\n",
    "            tuple: (seq, target) where sampled sequences are splitted into a seq\n",
    "                    and target part\n",
    "        \"\"\"\n",
    "        return self.data[index, :10], self.data[index, 10:]\n",
    "\n",
    "    def __len__(self):\n",
    "        return len(self.data)\n",
    "\n",
    "    def _check_exists(self):\n",
    "        return os.path.exists(os.path.join(self.root, self.processed_folder, self.training_file)) and \\\n",
    "            os.path.exists(os.path.join(self.root, self.processed_folder, self.test_file))\n",
    "\n",
    "    def download(self):\n",
    "        \"\"\"Download the Moving MNIST data if it doesn't exist in processed_folder already.\"\"\"\n",
    "        from six.moves import urllib\n",
    "        import gzip\n",
    "\n",
    "        if self._check_exists():\n",
    "            return\n",
    "\n",
    "        # download files\n",
    "        try:\n",
    "            os.makedirs(os.path.join(self.root, self.raw_folder))\n",
    "            os.makedirs(os.path.join(self.root, self.processed_folder))\n",
    "        except OSError as e:\n",
    "            if e.errno == errno.EEXIST:\n",
    "                pass\n",
    "            else:\n",
    "                raise\n",
    "\n",
    "        for url in self.urls:\n",
    "            print('Downloading ' + url)\n",
    "            data = urllib.request.urlopen(url)\n",
    "            filename = url.rpartition('/')[2]\n",
    "            file_path = os.path.join(self.root, self.raw_folder, filename)\n",
    "            with open(file_path, 'wb') as f:\n",
    "                f.write(data.read())\n",
    "            with open(file_path.replace('.gz', ''), 'wb') as out_f, \\\n",
    "                    gzip.GzipFile(file_path) as zip_f:\n",
    "                out_f.write(zip_f.read())\n",
    "            os.unlink(file_path)\n",
    "\n",
    "        # process and save as torch files\n",
    "        print('Processing...')\n",
    "\n",
    "        training_set = torch.from_numpy(\n",
    "            np.load(os.path.join(self.root, self.raw_folder, 'mnist_test_seq.npy')).swapaxes(0, 1)[:-self.split]\n",
    "        )\n",
    "        test_set = torch.from_numpy(\n",
    "            np.load(os.path.join(self.root, self.raw_folder, 'mnist_test_seq.npy')).swapaxes(0, 1)[-self.split:]\n",
    "        )\n",
    "\n",
    "        with open(os.path.join(self.root, self.processed_folder, self.training_file), 'wb') as f:\n",
    "            torch.save(training_set, f)\n",
    "        with open(os.path.join(self.root, self.processed_folder, self.test_file), 'wb') as f:\n",
    "            torch.save(test_set, f)\n",
    "\n",
    "        print('Done!')\n",
    "\n",
    "    def __repr__(self):\n",
    "        fmt_str = 'Dataset ' + self.__class__.__name__ + '\\n'\n",
    "        fmt_str += '    Number of datapoints: {}\\n'.format(self.__len__())\n",
    "        tmp = 'train' if self.train else 'test'\n",
    "        fmt_str += '    Train/test: {}\\n'.format(tmp)\n",
    "        fmt_str += '    Root Location: {}\\n'.format(self.root)\n",
    "        tmp = '    Transforms (if any): '\n",
    "        fmt_str += '{0}{1}\\n'.format(tmp, self.transform.__repr__().replace('\\n', '\\n' + ' ' * len(tmp)))\n",
    "        tmp = '    Target Transforms (if any): '\n",
    "        fmt_str += '{0}{1}'.format(tmp, self.target_transform.__repr__().replace('\\n', '\\n' + ' ' * len(tmp)))\n",
    "        return fmt_str"
   ]
  },
  {
   "cell_type": "code",
   "execution_count": 6,
   "metadata": {},
   "outputs": [
    {
     "data": {
      "text/plain": [
       "'/global/cscratch1/sd/sfarrell/moving-mnist'"
      ]
     },
     "execution_count": 6,
     "metadata": {},
     "output_type": "execute_result"
    }
   ],
   "source": [
    "data_dir = os.path.expandvars('$SCRATCH/moving-mnist')\n",
    "data_dir"
   ]
  },
  {
   "cell_type": "code",
   "execution_count": 22,
   "metadata": {},
   "outputs": [],
   "source": [
    "train_data = MovingMNIST(data_dir, train=True, download=True)\n",
    "test_data = MovingMNIST(data_dir, train=False)"
   ]
  },
  {
   "cell_type": "code",
   "execution_count": 23,
   "metadata": {},
   "outputs": [
    {
     "data": {
      "text/plain": [
       "Dataset MovingMNIST\n",
       "    Number of datapoints: 9000\n",
       "    Train/test: train\n",
       "    Root Location: $SCRATCH/moving-mnist\n",
       "    Transforms (if any): None\n",
       "    Target Transforms (if any): None"
      ]
     },
     "execution_count": 23,
     "metadata": {},
     "output_type": "execute_result"
    }
   ],
   "source": [
    "train_data"
   ]
  },
  {
   "cell_type": "code",
   "execution_count": 24,
   "metadata": {},
   "outputs": [
    {
     "data": {
      "text/plain": [
       "Dataset MovingMNIST\n",
       "    Number of datapoints: 1000\n",
       "    Train/test: test\n",
       "    Root Location: $SCRATCH/moving-mnist\n",
       "    Transforms (if any): None\n",
       "    Target Transforms (if any): None"
      ]
     },
     "execution_count": 24,
     "metadata": {},
     "output_type": "execute_result"
    }
   ],
   "source": [
    "test_data"
   ]
  },
  {
   "cell_type": "markdown",
   "metadata": {},
   "source": [
    "## Moving MNIST version 2\n",
    "\n",
    "https://onedrive.live.com/?authkey=%21AGzXjcOlzTQw158&id=FF7F539F0073B9E2%21124&cid=FF7F539F0073B9E2\n",
    "\n",
    "https://github.com/ML4HPC/predrnn-pp\n",
    "\n",
    "The data loading code in the github link above is overly complicated. Also, the npz files contain unnecessary information related to the shape and indices in the data."
   ]
  },
  {
   "cell_type": "code",
   "execution_count": 47,
   "metadata": {},
   "outputs": [],
   "source": [
    "data_dir = '/global/cfs/cdirs/m1759/sfarrell/nesap-stl/data'"
   ]
  },
  {
   "cell_type": "code",
   "execution_count": 48,
   "metadata": {},
   "outputs": [
    {
     "name": "stdout",
     "output_type": "stream",
     "text": [
      "brain_mnist.npy  moving-mnist-test.npz\t moving-mnist-valid.npz  traffic.txt\n",
      "electricity.txt  moving-mnist-train.npz  solar_AL.txt\n"
     ]
    }
   ],
   "source": [
    "!ls $data_dir"
   ]
  },
  {
   "cell_type": "code",
   "execution_count": 49,
   "metadata": {},
   "outputs": [
    {
     "data": {
      "text/plain": [
       "(['clips', 'dims', 'input_raw_data'],\n",
       " (2, 10000, 2),\n",
       " (1, 3),\n",
       " (200000, 1, 64, 64))"
      ]
     },
     "execution_count": 49,
     "metadata": {},
     "output_type": "execute_result"
    }
   ],
   "source": [
    "f = np.load(os.path.join(data_dir, 'moving-mnist-train.npz'))\n",
    "list(f.keys()), f['clips'].shape, f['dims'].shape, f['input_raw_data'].shape"
   ]
  },
  {
   "cell_type": "code",
   "execution_count": 50,
   "metadata": {},
   "outputs": [
    {
     "data": {
      "text/plain": [
       "(['clips', 'dims', 'input_raw_data'], (2, 2000, 2), (1, 3), (40000, 1, 64, 64))"
      ]
     },
     "execution_count": 50,
     "metadata": {},
     "output_type": "execute_result"
    }
   ],
   "source": [
    "f = np.load(os.path.join(data_dir, 'moving-mnist-valid.npz'))\n",
    "list(f.keys()), f['clips'].shape, f['dims'].shape, f['input_raw_data'].shape"
   ]
  },
  {
   "cell_type": "code",
   "execution_count": 51,
   "metadata": {},
   "outputs": [
    {
     "data": {
      "text/plain": [
       "(['clips', 'dims', 'input_raw_data'], (2, 3000, 2), (1, 3), (60000, 1, 64, 64))"
      ]
     },
     "execution_count": 51,
     "metadata": {},
     "output_type": "execute_result"
    }
   ],
   "source": [
    "f = np.load(os.path.join(data_dir, 'moving-mnist-test.npz'))\n",
    "list(f.keys()), f['clips'].shape, f['dims'].shape, f['input_raw_data'].shape"
   ]
  },
  {
   "cell_type": "markdown",
   "metadata": {},
   "source": [
    "### Making pytorch dataset"
   ]
  },
  {
   "cell_type": "code",
   "execution_count": 52,
   "metadata": {},
   "outputs": [],
   "source": [
    "class MovingMNIST(torch.utils.data.Dataset):\n",
    "    \"\"\"Moving MNIST dataset\n",
    "\n",
    "    TODO: add more documentation\n",
    "    \"\"\"\n",
    "\n",
    "    def __init__(self, data_file, sample_shape=(20, 1, 64, 64), input_seq_length=10):\n",
    "        self.data_file = data_file\n",
    "        self.input_seq_length = input_seq_length\n",
    "        \n",
    "        # Load the data\n",
    "        with np.load(data_file) as f:\n",
    "            d = f['input_raw_data']\n",
    "\n",
    "        # Reshape and convert to torch\n",
    "        self.data = torch.tensor(d.reshape((-1,) + sample_shape))\n",
    "    \n",
    "    def __getitem__(self, index):\n",
    "        return (self.data[index, :self.input_seq_length],\n",
    "                self.data[index, self.input_seq_length:])\n",
    "\n",
    "    def __len__(self):\n",
    "        return len(self.data)"
   ]
  },
  {
   "cell_type": "code",
   "execution_count": 53,
   "metadata": {},
   "outputs": [],
   "source": [
    "train_data = MovingMNIST(os.path.join(data_dir, 'moving-mnist-train.npz'))"
   ]
  },
  {
   "cell_type": "code",
   "execution_count": 54,
   "metadata": {},
   "outputs": [
    {
     "data": {
      "text/plain": [
       "<__main__.MovingMNIST at 0x2aac6f54c690>"
      ]
     },
     "execution_count": 54,
     "metadata": {},
     "output_type": "execute_result"
    }
   ],
   "source": [
    "train_data"
   ]
  },
  {
   "cell_type": "code",
   "execution_count": 55,
   "metadata": {},
   "outputs": [],
   "source": [
    "x, y = train_data[2]"
   ]
  },
  {
   "cell_type": "code",
   "execution_count": 56,
   "metadata": {},
   "outputs": [
    {
     "data": {
      "image/png": "[encoded data removed]",
      "text/plain": [
       "<Figure size 1152x216 with 20 Axes>"
      ]
     },
     "metadata": {
      "needs_background": "light"
     },
     "output_type": "display_data"
    }
   ],
   "source": [
    "fig, (axs0, axs1) = plt.subplots(nrows=2, ncols=10, figsize=(16, 3), sharex=True, sharey=True)\n",
    "for i in range(10):\n",
    "    axs0[i].imshow(x[i,0])\n",
    "    axs1[i].imshow(y[i,0])"
   ]
  },
  {
   "cell_type": "code",
   "execution_count": 66,
   "metadata": {},
   "outputs": [
    {
     "data": {
      "text/plain": [
       "torch.Size([10, 1, 64, 64])"
      ]
     },
     "execution_count": 66,
     "metadata": {},
     "output_type": "execute_result"
    }
   ],
   "source": [
    "x.shape"
   ]
  },
  {
   "cell_type": "markdown",
   "metadata": {},
   "source": [
    "### Testing patch reshape"
   ]
  },
  {
   "cell_type": "code",
   "execution_count": 57,
   "metadata": {},
   "outputs": [],
   "source": [
    "def reshape_patch(img_tensor, patch_size):\n",
    "    assert 5 == img_tensor.ndim\n",
    "    batch_size = np.shape(img_tensor)[0]\n",
    "    seq_length = np.shape(img_tensor)[1]\n",
    "    img_height = np.shape(img_tensor)[2]\n",
    "    img_width = np.shape(img_tensor)[3]\n",
    "    num_channels = np.shape(img_tensor)[4]\n",
    "    a = np.reshape(img_tensor, [batch_size, seq_length,\n",
    "                                img_height//patch_size, patch_size,\n",
    "                                img_width//patch_size, patch_size,\n",
    "                                num_channels])\n",
    "    b = np.transpose(a, [0,1,2,4,3,5,6])\n",
    "    patch_tensor = np.reshape(b, [batch_size, seq_length,\n",
    "                                  img_height//patch_size,\n",
    "                                  img_width//patch_size,\n",
    "                                  patch_size*patch_size*num_channels])\n",
    "    return patch_tensor"
   ]
  },
  {
   "cell_type": "code",
   "execution_count": 71,
   "metadata": {},
   "outputs": [
    {
     "data": {
      "text/plain": [
       "(1, 10, 16, 16, 16)"
      ]
     },
     "execution_count": 71,
     "metadata": {},
     "output_type": "execute_result"
    }
   ],
   "source": [
    "reshape_patch(x.numpy().reshape(1, 10, 64, 64, 1), 4).shape"
   ]
  }
 ],
 "metadata": {
  "kernelspec": {
   "display_name": "pytorch-v1.4.0",
   "language": "python",
   "name": "pytorch-v1.4.0"
  },
  "language_info": {
   "codemirror_mode": {
    "name": "ipython",
    "version": 3
   },
   "file_extension": ".py",
   "mimetype": "text/x-python",
   "name": "python",
   "nbconvert_exporter": "python",
   "pygments_lexer": "ipython3",
   "version": "3.7.6"
  }
 },
 "nbformat": 4,
 "nbformat_minor": 4
}

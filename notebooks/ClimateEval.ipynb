{
 "cells": [
  {
   "cell_type": "markdown",
   "metadata": {},
   "source": [
    "# Evaluation of Climate training"
   ]
  },
  {
   "cell_type": "code",
   "execution_count": 38,
   "metadata": {},
   "outputs": [],
   "source": [
    "# System\n",
    "import os\n",
    "import sys\n",
    "\n",
    "# Externals\n",
    "import pandas as pd\n",
    "import numpy as np\n",
    "import matplotlib.pyplot as plt\n",
    "\n",
    "# Locals\n",
    "sys.path.append('..')\n",
    "from datasets import get_datasets"
   ]
  },
  {
   "cell_type": "code",
   "execution_count": 18,
   "metadata": {},
   "outputs": [],
   "source": [
    "%matplotlib inline"
   ]
  },
  {
   "cell_type": "code",
   "execution_count": 19,
   "metadata": {},
   "outputs": [],
   "source": [
    "plt.rcParams.update({'font.size': 14})"
   ]
  },
  {
   "cell_type": "code",
   "execution_count": 25,
   "metadata": {},
   "outputs": [],
   "source": [
    "def load_history(result_dir):\n",
    "    history_file = os.path.join(result_dir, 'summaries_0.csv')\n",
    "    return pd.read_csv(history_file, delim_whitespace=True)"
   ]
  },
  {
   "cell_type": "code",
   "execution_count": 26,
   "metadata": {},
   "outputs": [
    {
     "name": "stdout",
     "output_type": "stream",
     "text": [
      "\u001b[0m\u001b[01;34mcheckpoints\u001b[0m/  out_1.log  out_3.log        summaries_1.csv  summaries_3.csv\n",
      "out_0.log     out_2.log  summaries_0.csv  summaries_2.csv\n"
     ]
    }
   ],
   "source": [
    "ls /global/cscratch1/sd/sfarrell/nesap-stl/predrnn-climate/results"
   ]
  },
  {
   "cell_type": "code",
   "execution_count": 28,
   "metadata": {},
   "outputs": [],
   "source": [
    "result_dir = '/global/cscratch1/sd/sfarrell/nesap-stl/predrnn-climate/results'"
   ]
  },
  {
   "cell_type": "code",
   "execution_count": 31,
   "metadata": {},
   "outputs": [],
   "source": [
    "history = load_history(result_dir)"
   ]
  },
  {
   "cell_type": "code",
   "execution_count": 34,
   "metadata": {},
   "outputs": [
    {
     "data": {
      "text/html": [
       "<div>\n",
       "<style scoped>\n",
       "    .dataframe tbody tr th:only-of-type {\n",
       "        vertical-align: middle;\n",
       "    }\n",
       "\n",
       "    .dataframe tbody tr th {\n",
       "        vertical-align: top;\n",
       "    }\n",
       "\n",
       "    .dataframe thead th {\n",
       "        text-align: right;\n",
       "    }\n",
       "</style>\n",
       "<table border=\"1\" class=\"dataframe\">\n",
       "  <thead>\n",
       "    <tr style=\"text-align: right;\">\n",
       "      <th></th>\n",
       "      <th>epoch</th>\n",
       "      <th>train_loss</th>\n",
       "      <th>train_time</th>\n",
       "      <th>valid_loss</th>\n",
       "      <th>valid_time</th>\n",
       "    </tr>\n",
       "  </thead>\n",
       "  <tbody>\n",
       "    <tr>\n",
       "      <th>0</th>\n",
       "      <td>0</td>\n",
       "      <td>0.127227</td>\n",
       "      <td>240.052571</td>\n",
       "      <td>0.054042</td>\n",
       "      <td>225.763082</td>\n",
       "    </tr>\n",
       "    <tr>\n",
       "      <th>1</th>\n",
       "      <td>1</td>\n",
       "      <td>0.046074</td>\n",
       "      <td>241.946064</td>\n",
       "      <td>0.044565</td>\n",
       "      <td>222.999687</td>\n",
       "    </tr>\n",
       "    <tr>\n",
       "      <th>2</th>\n",
       "      <td>2</td>\n",
       "      <td>0.042503</td>\n",
       "      <td>235.446768</td>\n",
       "      <td>0.038915</td>\n",
       "      <td>220.992565</td>\n",
       "    </tr>\n",
       "    <tr>\n",
       "      <th>3</th>\n",
       "      <td>3</td>\n",
       "      <td>0.039323</td>\n",
       "      <td>239.297154</td>\n",
       "      <td>0.037001</td>\n",
       "      <td>223.823162</td>\n",
       "    </tr>\n",
       "    <tr>\n",
       "      <th>4</th>\n",
       "      <td>4</td>\n",
       "      <td>0.037703</td>\n",
       "      <td>229.576320</td>\n",
       "      <td>0.036050</td>\n",
       "      <td>223.911753</td>\n",
       "    </tr>\n",
       "    <tr>\n",
       "      <th>5</th>\n",
       "      <td>5</td>\n",
       "      <td>0.036853</td>\n",
       "      <td>232.608268</td>\n",
       "      <td>0.035713</td>\n",
       "      <td>223.876794</td>\n",
       "    </tr>\n",
       "    <tr>\n",
       "      <th>6</th>\n",
       "      <td>6</td>\n",
       "      <td>0.036326</td>\n",
       "      <td>229.469527</td>\n",
       "      <td>0.035089</td>\n",
       "      <td>225.356676</td>\n",
       "    </tr>\n",
       "    <tr>\n",
       "      <th>7</th>\n",
       "      <td>7</td>\n",
       "      <td>0.035849</td>\n",
       "      <td>229.226531</td>\n",
       "      <td>0.034747</td>\n",
       "      <td>226.250795</td>\n",
       "    </tr>\n",
       "    <tr>\n",
       "      <th>8</th>\n",
       "      <td>8</td>\n",
       "      <td>0.035660</td>\n",
       "      <td>229.204993</td>\n",
       "      <td>0.034732</td>\n",
       "      <td>224.326785</td>\n",
       "    </tr>\n",
       "    <tr>\n",
       "      <th>9</th>\n",
       "      <td>9</td>\n",
       "      <td>0.035326</td>\n",
       "      <td>229.246454</td>\n",
       "      <td>0.034494</td>\n",
       "      <td>226.811394</td>\n",
       "    </tr>\n",
       "    <tr>\n",
       "      <th>10</th>\n",
       "      <td>10</td>\n",
       "      <td>0.035100</td>\n",
       "      <td>240.030715</td>\n",
       "      <td>0.034395</td>\n",
       "      <td>226.321221</td>\n",
       "    </tr>\n",
       "    <tr>\n",
       "      <th>11</th>\n",
       "      <td>11</td>\n",
       "      <td>0.034868</td>\n",
       "      <td>235.439312</td>\n",
       "      <td>0.034251</td>\n",
       "      <td>227.470073</td>\n",
       "    </tr>\n",
       "    <tr>\n",
       "      <th>12</th>\n",
       "      <td>12</td>\n",
       "      <td>0.034539</td>\n",
       "      <td>230.497279</td>\n",
       "      <td>0.033883</td>\n",
       "      <td>225.304565</td>\n",
       "    </tr>\n",
       "    <tr>\n",
       "      <th>13</th>\n",
       "      <td>13</td>\n",
       "      <td>0.034159</td>\n",
       "      <td>230.731664</td>\n",
       "      <td>0.033578</td>\n",
       "      <td>224.544121</td>\n",
       "    </tr>\n",
       "    <tr>\n",
       "      <th>14</th>\n",
       "      <td>14</td>\n",
       "      <td>0.033900</td>\n",
       "      <td>229.614304</td>\n",
       "      <td>0.033559</td>\n",
       "      <td>225.404718</td>\n",
       "    </tr>\n",
       "    <tr>\n",
       "      <th>15</th>\n",
       "      <td>15</td>\n",
       "      <td>0.033721</td>\n",
       "      <td>231.838279</td>\n",
       "      <td>0.033483</td>\n",
       "      <td>225.480679</td>\n",
       "    </tr>\n",
       "    <tr>\n",
       "      <th>16</th>\n",
       "      <td>16</td>\n",
       "      <td>0.033552</td>\n",
       "      <td>228.787558</td>\n",
       "      <td>0.033490</td>\n",
       "      <td>224.773405</td>\n",
       "    </tr>\n",
       "    <tr>\n",
       "      <th>17</th>\n",
       "      <td>17</td>\n",
       "      <td>0.033433</td>\n",
       "      <td>229.149407</td>\n",
       "      <td>0.033438</td>\n",
       "      <td>223.851544</td>\n",
       "    </tr>\n",
       "    <tr>\n",
       "      <th>18</th>\n",
       "      <td>18</td>\n",
       "      <td>0.033234</td>\n",
       "      <td>229.506327</td>\n",
       "      <td>0.033589</td>\n",
       "      <td>224.822132</td>\n",
       "    </tr>\n",
       "    <tr>\n",
       "      <th>19</th>\n",
       "      <td>19</td>\n",
       "      <td>0.033069</td>\n",
       "      <td>242.883122</td>\n",
       "      <td>0.033842</td>\n",
       "      <td>227.141882</td>\n",
       "    </tr>\n",
       "    <tr>\n",
       "      <th>20</th>\n",
       "      <td>20</td>\n",
       "      <td>0.032896</td>\n",
       "      <td>231.498996</td>\n",
       "      <td>0.034071</td>\n",
       "      <td>227.718484</td>\n",
       "    </tr>\n",
       "    <tr>\n",
       "      <th>21</th>\n",
       "      <td>21</td>\n",
       "      <td>0.032756</td>\n",
       "      <td>228.960459</td>\n",
       "      <td>0.034588</td>\n",
       "      <td>226.018653</td>\n",
       "    </tr>\n",
       "    <tr>\n",
       "      <th>22</th>\n",
       "      <td>22</td>\n",
       "      <td>0.032508</td>\n",
       "      <td>229.306553</td>\n",
       "      <td>0.034757</td>\n",
       "      <td>223.994139</td>\n",
       "    </tr>\n",
       "    <tr>\n",
       "      <th>23</th>\n",
       "      <td>23</td>\n",
       "      <td>0.032192</td>\n",
       "      <td>235.481232</td>\n",
       "      <td>0.034746</td>\n",
       "      <td>225.402234</td>\n",
       "    </tr>\n",
       "    <tr>\n",
       "      <th>24</th>\n",
       "      <td>24</td>\n",
       "      <td>0.031793</td>\n",
       "      <td>231.022581</td>\n",
       "      <td>0.035524</td>\n",
       "      <td>238.583399</td>\n",
       "    </tr>\n",
       "    <tr>\n",
       "      <th>25</th>\n",
       "      <td>25</td>\n",
       "      <td>0.031494</td>\n",
       "      <td>230.094731</td>\n",
       "      <td>0.035314</td>\n",
       "      <td>232.467092</td>\n",
       "    </tr>\n",
       "    <tr>\n",
       "      <th>26</th>\n",
       "      <td>26</td>\n",
       "      <td>0.030971</td>\n",
       "      <td>230.182417</td>\n",
       "      <td>0.036127</td>\n",
       "      <td>232.432410</td>\n",
       "    </tr>\n",
       "    <tr>\n",
       "      <th>27</th>\n",
       "      <td>27</td>\n",
       "      <td>0.030659</td>\n",
       "      <td>232.381219</td>\n",
       "      <td>0.036461</td>\n",
       "      <td>238.380529</td>\n",
       "    </tr>\n",
       "    <tr>\n",
       "      <th>28</th>\n",
       "      <td>28</td>\n",
       "      <td>0.030285</td>\n",
       "      <td>230.402205</td>\n",
       "      <td>0.036342</td>\n",
       "      <td>225.528311</td>\n",
       "    </tr>\n",
       "    <tr>\n",
       "      <th>29</th>\n",
       "      <td>29</td>\n",
       "      <td>0.029926</td>\n",
       "      <td>233.276209</td>\n",
       "      <td>0.036340</td>\n",
       "      <td>223.054716</td>\n",
       "    </tr>\n",
       "    <tr>\n",
       "      <th>30</th>\n",
       "      <td>30</td>\n",
       "      <td>0.029562</td>\n",
       "      <td>241.867074</td>\n",
       "      <td>0.036576</td>\n",
       "      <td>223.545284</td>\n",
       "    </tr>\n",
       "    <tr>\n",
       "      <th>31</th>\n",
       "      <td>31</td>\n",
       "      <td>0.029095</td>\n",
       "      <td>241.924278</td>\n",
       "      <td>0.036577</td>\n",
       "      <td>223.962924</td>\n",
       "    </tr>\n",
       "  </tbody>\n",
       "</table>\n",
       "</div>"
      ],
      "text/plain": [
       "    epoch  train_loss  train_time  valid_loss  valid_time\n",
       "0       0    0.127227  240.052571    0.054042  225.763082\n",
       "1       1    0.046074  241.946064    0.044565  222.999687\n",
       "2       2    0.042503  235.446768    0.038915  220.992565\n",
       "3       3    0.039323  239.297154    0.037001  223.823162\n",
       "4       4    0.037703  229.576320    0.036050  223.911753\n",
       "5       5    0.036853  232.608268    0.035713  223.876794\n",
       "6       6    0.036326  229.469527    0.035089  225.356676\n",
       "7       7    0.035849  229.226531    0.034747  226.250795\n",
       "8       8    0.035660  229.204993    0.034732  224.326785\n",
       "9       9    0.035326  229.246454    0.034494  226.811394\n",
       "10     10    0.035100  240.030715    0.034395  226.321221\n",
       "11     11    0.034868  235.439312    0.034251  227.470073\n",
       "12     12    0.034539  230.497279    0.033883  225.304565\n",
       "13     13    0.034159  230.731664    0.033578  224.544121\n",
       "14     14    0.033900  229.614304    0.033559  225.404718\n",
       "15     15    0.033721  231.838279    0.033483  225.480679\n",
       "16     16    0.033552  228.787558    0.033490  224.773405\n",
       "17     17    0.033433  229.149407    0.033438  223.851544\n",
       "18     18    0.033234  229.506327    0.033589  224.822132\n",
       "19     19    0.033069  242.883122    0.033842  227.141882\n",
       "20     20    0.032896  231.498996    0.034071  227.718484\n",
       "21     21    0.032756  228.960459    0.034588  226.018653\n",
       "22     22    0.032508  229.306553    0.034757  223.994139\n",
       "23     23    0.032192  235.481232    0.034746  225.402234\n",
       "24     24    0.031793  231.022581    0.035524  238.583399\n",
       "25     25    0.031494  230.094731    0.035314  232.467092\n",
       "26     26    0.030971  230.182417    0.036127  232.432410\n",
       "27     27    0.030659  232.381219    0.036461  238.380529\n",
       "28     28    0.030285  230.402205    0.036342  225.528311\n",
       "29     29    0.029926  233.276209    0.036340  223.054716\n",
       "30     30    0.029562  241.867074    0.036576  223.545284\n",
       "31     31    0.029095  241.924278    0.036577  223.962924"
      ]
     },
     "execution_count": 34,
     "metadata": {},
     "output_type": "execute_result"
    }
   ],
   "source": [
    "history"
   ]
  },
  {
   "cell_type": "code",
   "execution_count": 36,
   "metadata": {},
   "outputs": [
    {
     "data": {
      "text/plain": [
       "Text(0, 0.5, 'Loss')"
      ]
     },
     "execution_count": 36,
     "metadata": {},
     "output_type": "execute_result"
    },
    {
     "data": {
      "image/png": "[encoded data removed]",
      "text/plain": [
       "<Figure size 648x576 with 1 Axes>"
      ]
     },
     "metadata": {
      "needs_background": "light"
     },
     "output_type": "display_data"
    }
   ],
   "source": [
    "fig, ax = plt.subplots(figsize=(9, 8))\n",
    "ax.plot(history.train_loss, label='Train')\n",
    "ax.plot(history.valid_loss, label='Validation')\n",
    "ax.legend(loc=0)\n",
    "ax.set_xlabel('Epoch')\n",
    "ax.set_ylabel('Loss')"
   ]
  },
  {
   "cell_type": "markdown",
   "metadata": {},
   "source": [
    "## Compute persistent model baseline on the validation set"
   ]
  },
  {
   "cell_type": "code",
   "execution_count": 43,
   "metadata": {},
   "outputs": [],
   "source": [
    "# Data config\n",
    "data_file = '/global/cfs/cdirs/m1759/sfarrell/nesap-stl/data/climate.npz'\n",
    "n_train = 8192\n",
    "n_valid = 2048\n",
    "patch_size = 4\n",
    "seq_len = 16"
   ]
  },
  {
   "cell_type": "code",
   "execution_count": 44,
   "metadata": {},
   "outputs": [],
   "source": [
    "train_data, valid_data, _ = get_datasets('climate', data_file=data_file,\n",
    "                                         n_train=n_train, n_valid=n_valid,\n",
    "                                         patch_size=patch_size, seq_len=seq_len)"
   ]
  },
  {
   "cell_type": "code",
   "execution_count": 55,
   "metadata": {},
   "outputs": [],
   "source": [
    "persistent_mse = ((valid_data.data[1:] - valid_data.data[:-1])**2).mean()"
   ]
  },
  {
   "cell_type": "code",
   "execution_count": 58,
   "metadata": {},
   "outputs": [
    {
     "name": "stdout",
     "output_type": "stream",
     "text": [
      "Best validation MSE: 0.033438\n",
      "Persistent baseline MSE: 0.035942197\n"
     ]
    }
   ],
   "source": [
    "print('Best validation MSE:', history.valid_loss.min())\n",
    "print('Persistent baseline MSE:', persistent_mse)"
   ]
  },
  {
   "cell_type": "markdown",
   "metadata": {},
   "source": [
    "## Develop code to load all summaries\n",
    "\n",
    "TBD"
   ]
  },
  {
   "cell_type": "code",
   "execution_count": 11,
   "metadata": {},
   "outputs": [],
   "source": [
    "# Let's develop the code to load all summaries into one dataframe\n",
    "result_dir = '/global/cscratch1/sd/sfarrell/nesap-stl/predrnn-climate/results'"
   ]
  }
 ],
 "metadata": {
  "kernelspec": {
   "display_name": "pytorch-v1.4.0",
   "language": "python",
   "name": "pytorch-v1.4.0"
  },
  "language_info": {
   "codemirror_mode": {
    "name": "ipython",
    "version": 3
   },
   "file_extension": ".py",
   "mimetype": "text/x-python",
   "name": "python",
   "nbconvert_exporter": "python",
   "pygments_lexer": "ipython3",
   "version": "3.7.6"
  }
 },
 "nbformat": 4,
 "nbformat_minor": 4
}
